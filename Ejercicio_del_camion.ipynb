{
  "nbformat": 4,
  "nbformat_minor": 0,
  "metadata": {
    "colab": {
      "provenance": [],
      "authorship_tag": "ABX9TyOmFbjexx7KU7mGi+6Bd0Nn",
      "include_colab_link": true
    },
    "kernelspec": {
      "name": "python3",
      "display_name": "Python 3"
    },
    "language_info": {
      "name": "python"
    }
  },
  "cells": [
    {
      "cell_type": "markdown",
      "metadata": {
        "id": "view-in-github",
        "colab_type": "text"
      },
      "source": [
        "<a href=\"https://colab.research.google.com/github/val578/Fundamentos-de-programacion/blob/main/Ejercicio_del_camion.ipynb\" target=\"_parent\"><img src=\"https://colab.research.google.com/assets/colab-badge.svg\" alt=\"Open In Colab\"/></a>"
      ]
    },
    {
      "cell_type": "markdown",
      "source": [
        "Una central distribuye cal hacia diferentes almacenes sucursales. Disponen de un muelle de carga a donde van llegando sacas de cal de entre 3000 y 9000 Kgs, con pesos variables en función de las circunstancias de la producción. La empresa dispone de una flota de camiones con capacidades de carga de entre 18000 y 28000 Kgs.\n",
        "\n",
        "Se pretende establecer un protocolo consistente en cargar 20 camiones diarios. Cada camión se quiere cargar como máximo a su límite de capacidad debiendo partir si con la siguiente saca en la línea de producción se fuera a exceder su capacidad.\n",
        "\n",
        "La empresa quiere desarrollar un programa que le pida al operario encargado de carga la capacidad del camión y el peso de las sacas, indicándole si debe cargar la saca o despachar el camión para comenzar a cargar otro."
      ],
      "metadata": {
        "id": "pgY_0j07vE8n"
      }
    },
    {
      "cell_type": "code",
      "source": [
        "i=0\n",
        "j=0\n",
        "\n",
        "for i in range(20): #CAPACIDAD DEL CAMION\n",
        "  print(\"Se introducira la capacidad del camion #\",i)\n",
        "  capacid=float(input(\"Introduzca capacidad del camion a llenar: \"))\n",
        "  carg=0\n",
        "  pes_sac=0\n",
        "  while (pes_sac+carg)<=capacid:\n",
        "    if pes_sac<0:\n",
        "      print(\"Cargar la saca #\",j)\n",
        "      carg=carg+pes_sac\n",
        "      \n",
        "    if i<20:\n",
        "      print(\"No cargar el caminon #\",i ,\"Cargar el camion #\",i+1)\n",
        "\n",
        "print(\"No cargar la saca. Despache camion\",i-1)\n",
        "print(\"Fin de la carga del dia\")\n",
        "\n",
        "\n",
        "\n",
        "\n",
        "\n"
      ],
      "metadata": {
        "id": "aOflWB0OvM1r"
      },
      "execution_count": null,
      "outputs": []
    }
  ]
}