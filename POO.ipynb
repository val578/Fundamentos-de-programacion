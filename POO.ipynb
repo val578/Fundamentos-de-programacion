{
  "nbformat": 4,
  "nbformat_minor": 0,
  "metadata": {
    "colab": {
      "provenance": [],
      "authorship_tag": "ABX9TyNmT98b6eFdi/d93kFOvHHG",
      "include_colab_link": true
    },
    "kernelspec": {
      "name": "python3",
      "display_name": "Python 3"
    },
    "language_info": {
      "name": "python"
    }
  },
  "cells": [
    {
      "cell_type": "markdown",
      "metadata": {
        "id": "view-in-github",
        "colab_type": "text"
      },
      "source": [
        "<a href=\"https://colab.research.google.com/github/val578/Fundamentos-de-programacion/blob/main/POO.ipynb\" target=\"_parent\"><img src=\"https://colab.research.google.com/assets/colab-badge.svg\" alt=\"Open In Colab\"/></a>"
      ]
    },
    {
      "cell_type": "code",
      "execution_count": null,
      "metadata": {
        "id": "pfb1rRQznBnR"
      },
      "outputs": [],
      "source": [
        "class Coche():\n",
        "#Atributos\n",
        "  ruedas = 4\n",
        "  cilindraje = 1000\n",
        "  combustible = \"Gasolina\"\n",
        "  puerta = 3\n",
        "\n",
        "#No es una función es un método-Desarrollo de metodos\n",
        "  def desplazamiento (self): #Cambios de comportamientos\n",
        "    print(\"El coche se está desplazando sobre 4 ruedas\")\n",
        "\n",
        "#Programa principal\n",
        "\n",
        "#Generar una instancia de la clase\n",
        "#Instanciar un objeto\n",
        "#Declarar un objeto\n",
        "miVehiculo=Coche()\n",
        "obj_miCarrito = Coche()\n",
        "#Acceso al atributo\n",
        "print(\"Mi Vehiculo tiene \", miVehiculo.ruedas, \"ruedas\")\n",
        "print(\"Mi Carrito tiene \", obj_miCarrito.ruedas, \"ruedas\")\n",
        "print(\"Mi coche tiene \", miVehiculo.combustible, \"de combustible\")\n",
        "print(\"Mi Carrito tiene \", obj_miCarrito.combustible, \"de combustible\")\n",
        "print(\"Mi coche tiene \", miVehiculo.cilindraje, \"de cilindraje\")\n",
        "print(\"Mi coche tiene \", miVehiculo.puerta, \"puertas\")\n",
        "#Forma que un objeto solicita que se ejecute unmétodo\n",
        "miVehiculo.desplazamiento()\n",
        "obj_miCarrito.desplazamiento()"
      ]
    }
  ]
}