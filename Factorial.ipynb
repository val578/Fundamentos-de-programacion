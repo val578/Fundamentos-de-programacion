{
  "nbformat": 4,
  "nbformat_minor": 0,
  "metadata": {
    "colab": {
      "provenance": [],
      "collapsed_sections": [],
      "authorship_tag": "ABX9TyOhTyif1HsmKoY/Ei4xt6am",
      "include_colab_link": true
    },
    "kernelspec": {
      "name": "python3",
      "display_name": "Python 3"
    },
    "language_info": {
      "name": "python"
    }
  },
  "cells": [
    {
      "cell_type": "markdown",
      "metadata": {
        "id": "view-in-github",
        "colab_type": "text"
      },
      "source": [
        "<a href=\"https://colab.research.google.com/github/val578/Fundamentos-de-programacion/blob/main/Factorial.ipynb\" target=\"_parent\"><img src=\"https://colab.research.google.com/assets/colab-badge.svg\" alt=\"Open In Colab\"/></a>"
      ]
    },
    {
      "cell_type": "code",
      "execution_count": null,
      "metadata": {
        "id": "KG3qAZXsVuOA"
      },
      "outputs": [],
      "source": [
        "#Importar librerias \n",
        "\n",
        "import matplotlib\n",
        "import matplotlib.pyplot as plt\n",
        "import numpy as np \n",
        "#Libreria de calculo simbolico \n",
        "from sympy import *\n",
        "#Se declara las variables simbolicas \n",
        "x,y= symbols (\"x,y\")\n",
        "\n"
      ]
    },
    {
      "cell_type": "code",
      "source": [
        "#Declarar variables\n",
        "\n",
        "k=int\n",
        "N=int\n",
        "\n",
        "if N < 0: \n",
        "  print(\"El numero sera positivo\")\n",
        "elif N > 1:\n",
        "  \n"
      ],
      "metadata": {
        "id": "FZNt4HE5qUOZ"
      },
      "execution_count": null,
      "outputs": []
    }
  ]
}