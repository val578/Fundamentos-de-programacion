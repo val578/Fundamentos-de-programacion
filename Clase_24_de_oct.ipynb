{
  "nbformat": 4,
  "nbformat_minor": 0,
  "metadata": {
    "colab": {
      "provenance": [],
      "collapsed_sections": [],
      "authorship_tag": "ABX9TyOGTUxalmWRp6rvQzRIThcC",
      "include_colab_link": true
    },
    "kernelspec": {
      "name": "python3",
      "display_name": "Python 3"
    },
    "language_info": {
      "name": "python"
    }
  },
  "cells": [
    {
      "cell_type": "markdown",
      "metadata": {
        "id": "view-in-github",
        "colab_type": "text"
      },
      "source": [
        "<a href=\"https://colab.research.google.com/github/val578/Fundamentos-de-programacion/blob/main/Clase_24_de_oct.ipynb\" target=\"_parent\"><img src=\"https://colab.research.google.com/assets/colab-badge.svg\" alt=\"Open In Colab\"/></a>"
      ]
    },
    {
      "cell_type": "markdown",
      "source": [
        "Un ejemplo para hacer Menus "
      ],
      "metadata": {
        "id": "1NCRavFlKOIf"
      }
    },
    {
      "cell_type": "code",
      "execution_count": null,
      "metadata": {
        "id": "ty5pS9W2Iago"
      },
      "outputs": [],
      "source": [
        "import os \n",
        "\n",
        "def menu():\n",
        "  \"\"\"\n",
        "  Funcion que limpia la pantalla y muestra nuevamente el menu\n",
        "  \"\"\"\n",
        "\n",
        "  os.system('cls')#Nota: para Windows tienen que cambiar clear por cls \n",
        "\n",
        "  print('Selecciona una opcion')\n",
        "  print('\\t1 - Primera opcion')\n",
        "  print('\\t2 - Segunda opcion')\n",
        "  print('\\t3 - Tercera opcion')\n",
        "\n",
        "  #Salir\n",
        "\n",
        "  print('\\t9 - Salir ')\n",
        "\n",
        "\n",
        "  while True: \n",
        "\n",
        "    #Mostramos el menu \n",
        "    opcionMenu= input('Inserte un valor >>  ')\n",
        "\n",
        "\n",
        "    if opcionMenu =='1':\n",
        "      print(\"\")\n",
        "      input(\"Haz pulsado la opcion 1... \\npulsa una tecla para continuar\")\n",
        "    elif opcionMenu =='2':\n",
        "      print(\"\")\n",
        "      input(\"Haz pulsado la opcion 2... \\npulsa una tecla para continuar\")\n",
        "    elif opcionMenu =='3':\n",
        "      print(\"\")\n",
        "      input(\"Haz pulsado la opcion 3... \\npulsa una tecla para continuar\")\n",
        "    elif opcionMenu=='9':\n",
        "      break\n",
        "    else:\n",
        "      print(\"\")\n",
        "      input(\"NO haz pulsado ninguna opcion correcta...\\n pulsa una tecla para continuar\")\n",
        "    \n",
        "\n",
        "\n",
        "\n"
      ]
    }
  ]
}