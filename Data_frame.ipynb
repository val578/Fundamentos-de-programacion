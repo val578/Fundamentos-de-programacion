{
  "nbformat": 4,
  "nbformat_minor": 0,
  "metadata": {
    "colab": {
      "provenance": [],
      "authorship_tag": "ABX9TyMK1z5xnKnCb9bOoxjxS4X4",
      "include_colab_link": true
    },
    "kernelspec": {
      "name": "python3",
      "display_name": "Python 3"
    },
    "language_info": {
      "name": "python"
    }
  },
  "cells": [
    {
      "cell_type": "markdown",
      "metadata": {
        "id": "view-in-github",
        "colab_type": "text"
      },
      "source": [
        "<a href=\"https://colab.research.google.com/github/val578/Fundamentos-de-programacion/blob/main/Data_frame.ipynb\" target=\"_parent\"><img src=\"https://colab.research.google.com/assets/colab-badge.svg\" alt=\"Open In Colab\"/></a>"
      ]
    },
    {
      "cell_type": "code",
      "execution_count": null,
      "metadata": {
        "colab": {
          "base_uri": "https://localhost:8080/"
        },
        "id": "5stL1fz3mVls",
        "outputId": "ec434c75-87c8-400d-efde-e3d71b3c746c"
      },
      "outputs": [
        {
          "output_type": "stream",
          "name": "stdout",
          "text": [
            "El area total del pais 1141954\n",
            "El promedio de la poblacion es:  1338315.6363636365\n",
            "El departamento con mayor poblacion es:  7181469\n",
            "Ingrese el departamento: Atlantico\n",
            "1    100242\n",
            "Name: Area, dtype: int64\n"
          ]
        }
      ],
      "source": [
        "#Lecturas de datos tipo excel \n",
        "#Importar librerias \n",
        "\n",
        "import matplotlib.pyplot as plt\n",
        "import pandas as pd\n",
        "\n",
        "archivoExcel=pd.read_excel(\"deptoAndres.xlsx\")\n",
        "n_dep=archivoExcel ['Departamento']\n",
        "pob=archivoExcel['Poblacion']\n",
        "area=archivoExcel['Area']\n",
        "\n",
        "\n",
        "#Funcion desarrollada por el programador\n",
        "\n",
        "def area_col():\n",
        "  total_area=archivoExcel['Area'].sum() #Funcion propia del lenguaje\n",
        "  return total_area\n",
        "\n",
        "print(\"El area total del pais\", area_col())\n",
        "\n",
        "def prom_pers_d():\n",
        "  total_p=archivoExcel['Poblacion'].sum()\n",
        "  prom_p=total_p/len(n_dep)\n",
        "  return prom_p\n",
        "\n",
        "print(\"El promedio de la poblacion es: \",prom_pers_d())\n",
        "\n",
        "def numero_mayor():\n",
        "  d_mayor=0\n",
        "  for x in range(len(n_dep)):\n",
        "    index_d=archivoExcel.loc[x,'Poblacion']\n",
        "    if index_d>d_mayor:\n",
        "      d_mayor=index_d\n",
        "  return d_mayor\n",
        "\n",
        "print(\"El departamento con mayor poblacion es: \", numero_mayor())\n",
        "\n",
        "#FUNCION QUE PASE EL DEPARTAMENTO Y RETORNE TODOS SUS DATOS\n",
        "\n",
        "departamento= input(\"Ingrese el departamento: \")\n",
        "dato_dep=archivoExcel[archivoExcel['Departamento']==departamento]['Poblacion']\n",
        "\n",
        "print(dato_dep)\n"
      ]
    }
  ]
}