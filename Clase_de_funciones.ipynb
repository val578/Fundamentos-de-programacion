{
  "nbformat": 4,
  "nbformat_minor": 0,
  "metadata": {
    "colab": {
      "provenance": [],
      "collapsed_sections": [],
      "authorship_tag": "ABX9TyP7yi2ENMZqDzFWt+CP4C/K",
      "include_colab_link": true
    },
    "kernelspec": {
      "name": "python3",
      "display_name": "Python 3"
    },
    "language_info": {
      "name": "python"
    }
  },
  "cells": [
    {
      "cell_type": "markdown",
      "metadata": {
        "id": "view-in-github",
        "colab_type": "text"
      },
      "source": [
        "<a href=\"https://colab.research.google.com/github/val578/Fundamentos-de-programacion/blob/main/Clase_de_funciones.ipynb\" target=\"_parent\"><img src=\"https://colab.research.google.com/assets/colab-badge.svg\" alt=\"Open In Colab\"/></a>"
      ]
    },
    {
      "cell_type": "code",
      "execution_count": null,
      "metadata": {
        "colab": {
          "base_uri": "https://localhost:8080/"
        },
        "id": "iyj3BC06l5LV",
        "outputId": "2fb4231f-635a-4afc-f968-d056706e6aa7"
      },
      "outputs": [
        {
          "output_type": "stream",
          "name": "stdout",
          "text": [
            "********************************************************\n",
            "FUNCION QUE NO RECIBE PARAMETRO Y NO RETORNA VALOR\n",
            "Linea dos del mensaje\n",
            "********************************************************\n"
          ]
        }
      ],
      "source": [
        "def mostrar_mensaje():\n",
        "  print(\"********************************************************\")\n",
        "  print(\"FUNCION QUE NO RECIBE PARAMETRO Y NO RETORNA VALOR\")\n",
        "  print(\"Linea dos del mensaje\")\n",
        "  print(\"********************************************************\")\n",
        "\n",
        "mostrar_mensaje()"
      ]
    },
    {
      "cell_type": "code",
      "source": [
        "def mostrar_mensaje(mensaje):\n",
        "  print(\"********************************************************\")\n",
        "  print(mensaje)\n",
        "  print(\"********************************************************\")"
      ],
      "metadata": {
        "id": "o9_2O9u7maMe"
      },
      "execution_count": null,
      "outputs": []
    },
    {
      "cell_type": "code",
      "source": [
        "#Ejemplo de funcion que recibe y no retorna\n",
        "\n",
        "def sumatoria(n):\n",
        "  s=0\n",
        "  for i in range (n):\n",
        "    s=s+pow(i,2)\n",
        "    print(\"La sumatoria es:  \",s)\n",
        "\n",
        "sumatoria(5)"
      ],
      "metadata": {
        "colab": {
          "base_uri": "https://localhost:8080/"
        },
        "id": "GZ90Cy8Hmya0",
        "outputId": "47cd1b5f-a869-4ddd-a6af-2d8d2f61d484"
      },
      "execution_count": null,
      "outputs": [
        {
          "output_type": "stream",
          "name": "stdout",
          "text": [
            "La sumatoria es:   0\n",
            "La sumatoria es:   1\n",
            "La sumatoria es:   5\n",
            "La sumatoria es:   14\n",
            "La sumatoria es:   30\n"
          ]
        }
      ]
    },
    {
      "cell_type": "code",
      "source": [
        "#Ejemplo de funcion que recibe y retorna\n",
        "\n",
        "def sumatoria(n):\n",
        "  s=0\n",
        "  for i in range (n):\n",
        "    s=s+pow(i,2)\n",
        "  return(s)\n",
        "\n",
        "val=int(input(\"Digite el valor:\" ))\n",
        "resSum=sumatoria(val)\n",
        "print(\"La sumatoria es: \",resSum)"
      ],
      "metadata": {
        "colab": {
          "base_uri": "https://localhost:8080/"
        },
        "id": "sZ66xJC-nS0G",
        "outputId": "bc9be1a4-9f25-4401-ff32-1c0fd87a3d7b"
      },
      "execution_count": null,
      "outputs": [
        {
          "output_type": "stream",
          "name": "stdout",
          "text": [
            "Digite el valor:5\n",
            "La sumatoria es:  30\n"
          ]
        }
      ]
    },
    {
      "cell_type": "code",
      "source": [
        "def sumatoria(e):\n",
        "  s=0\n",
        "  for i in range (e):\n",
        "    s=s+pow(i,e)\n",
        "  return(s)\n",
        "\n",
        "val=int(input(\"Digite el valor:\" ))\n",
        "exp=int(input(\"Digite el valor del exponente: \"))\n",
        "resSum=sumatoria(val,exp)\n",
        "print(\"La sumatoria es: \",resSum)"
      ],
      "metadata": {
        "id": "8mpuY6QEnfQv"
      },
      "execution_count": null,
      "outputs": []
    }
  ]
}