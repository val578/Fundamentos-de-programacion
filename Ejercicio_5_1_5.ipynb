{
  "nbformat": 4,
  "nbformat_minor": 0,
  "metadata": {
    "colab": {
      "provenance": [],
      "collapsed_sections": [],
      "authorship_tag": "ABX9TyODX6cl6Eq5eQftmO9gRO1K",
      "include_colab_link": true
    },
    "kernelspec": {
      "name": "python3",
      "display_name": "Python 3"
    },
    "language_info": {
      "name": "python"
    }
  },
  "cells": [
    {
      "cell_type": "markdown",
      "metadata": {
        "id": "view-in-github",
        "colab_type": "text"
      },
      "source": [
        "<a href=\"https://colab.research.google.com/github/val578/Fundamentos-de-programacion/blob/main/Ejercicio_5_1_5.ipynb\" target=\"_parent\"><img src=\"https://colab.research.google.com/assets/colab-badge.svg\" alt=\"Open In Colab\"/></a>"
      ]
    },
    {
      "cell_type": "code",
      "execution_count": null,
      "metadata": {
        "id": "32sxWvhwJWV5"
      },
      "outputs": [],
      "source": [
        "#Nombre del autor: Valeria Osorio Rios\n",
        "#Fecha: 9 de septiembre del 2022\n",
        "#Problema: Determinar simultaneamente los valores maximos y minimos de una lista de 100 numeros\n",
        "\n"
      ]
    },
    {
      "cell_type": "markdown",
      "source": [
        "ciclo anidado: permite en un ciclo externo, hacer un ciclo interno"
      ],
      "metadata": {
        "id": "UXe90uJ-zMkq"
      }
    },
    {
      "cell_type": "code",
      "source": [
        "lista=[]\n",
        "\n",
        "cantidad=int(input(\"Cantidad:\"))\n",
        "mayor=0\n",
        "menor=0\n",
        "i=1\n",
        "\n",
        "\n",
        "while cantidad>0:\n",
        "  numero=float(input(\"Numero  #\" + str(1) + \":\"))\n",
        "  lista.appened(numero)\n",
        "  i=i+1\n",
        "  cantidad=cantidad-1\n",
        "\n",
        "mayor=max(lista)\n",
        "menor=min(lista)\n",
        "\n",
        "print(\"Lista: \",lista)\n",
        "print(\"Mayor:\",mayor)\n",
        "print(\"Menor: \", menor)\n",
        "\n",
        "\n",
        "\n",
        "\n",
        "\n"
      ],
      "metadata": {
        "id": "QE3pGTI_Kxhu",
        "colab": {
          "base_uri": "https://localhost:8080/",
          "height": 270
        },
        "outputId": "c637f63a-a709-476a-d9e4-848dc5390959"
      },
      "execution_count": null,
      "outputs": [
        {
          "name": "stdout",
          "output_type": "stream",
          "text": [
            "Cantidad:4\n",
            "Numero  #1:2\n"
          ]
        },
        {
          "output_type": "error",
          "ename": "AttributeError",
          "evalue": "ignored",
          "traceback": [
            "\u001b[0;31m---------------------------------------------------------------------------\u001b[0m",
            "\u001b[0;31mAttributeError\u001b[0m                            Traceback (most recent call last)",
            "\u001b[0;32m<ipython-input-2-ac24c72c3437>\u001b[0m in \u001b[0;36m<module>\u001b[0;34m\u001b[0m\n\u001b[1;32m      9\u001b[0m \u001b[0;32mwhile\u001b[0m \u001b[0mcantidad\u001b[0m\u001b[0;34m>\u001b[0m\u001b[0;36m0\u001b[0m\u001b[0;34m:\u001b[0m\u001b[0;34m\u001b[0m\u001b[0;34m\u001b[0m\u001b[0m\n\u001b[1;32m     10\u001b[0m   \u001b[0mnumero\u001b[0m\u001b[0;34m=\u001b[0m\u001b[0mfloat\u001b[0m\u001b[0;34m(\u001b[0m\u001b[0minput\u001b[0m\u001b[0;34m(\u001b[0m\u001b[0;34m\"Numero  #\"\u001b[0m \u001b[0;34m+\u001b[0m \u001b[0mstr\u001b[0m\u001b[0;34m(\u001b[0m\u001b[0;36m1\u001b[0m\u001b[0;34m)\u001b[0m \u001b[0;34m+\u001b[0m \u001b[0;34m\":\"\u001b[0m\u001b[0;34m)\u001b[0m\u001b[0;34m)\u001b[0m\u001b[0;34m\u001b[0m\u001b[0;34m\u001b[0m\u001b[0m\n\u001b[0;32m---> 11\u001b[0;31m   \u001b[0mlista\u001b[0m\u001b[0;34m.\u001b[0m\u001b[0mappened\u001b[0m\u001b[0;34m(\u001b[0m\u001b[0mnumero\u001b[0m\u001b[0;34m)\u001b[0m\u001b[0;34m\u001b[0m\u001b[0;34m\u001b[0m\u001b[0m\n\u001b[0m\u001b[1;32m     12\u001b[0m   \u001b[0mi\u001b[0m\u001b[0;34m=\u001b[0m\u001b[0mi\u001b[0m\u001b[0;34m+\u001b[0m\u001b[0;36m1\u001b[0m\u001b[0;34m\u001b[0m\u001b[0;34m\u001b[0m\u001b[0m\n\u001b[1;32m     13\u001b[0m   \u001b[0mcantidad\u001b[0m\u001b[0;34m=\u001b[0m\u001b[0mcantidad\u001b[0m\u001b[0;34m-\u001b[0m\u001b[0;36m1\u001b[0m\u001b[0;34m\u001b[0m\u001b[0;34m\u001b[0m\u001b[0m\n",
            "\u001b[0;31mAttributeError\u001b[0m: 'list' object has no attribute 'appened'"
          ]
        }
      ]
    }
  ]
}