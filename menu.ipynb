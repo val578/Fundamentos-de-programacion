{
  "nbformat": 4,
  "nbformat_minor": 0,
  "metadata": {
    "colab": {
      "provenance": [],
      "collapsed_sections": [],
      "authorship_tag": "ABX9TyMr3hAHPSyXfOViq4CqGEZl",
      "include_colab_link": true
    },
    "kernelspec": {
      "name": "python3",
      "display_name": "Python 3"
    },
    "language_info": {
      "name": "python"
    }
  },
  "cells": [
    {
      "cell_type": "markdown",
      "metadata": {
        "id": "view-in-github",
        "colab_type": "text"
      },
      "source": [
        "<a href=\"https://colab.research.google.com/github/val578/Fundamentos-de-programacion/blob/main/menu.ipynb\" target=\"_parent\"><img src=\"https://colab.research.google.com/assets/colab-badge.svg\" alt=\"Open In Colab\"/></a>"
      ]
    },
    {
      "cell_type": "code",
      "execution_count": null,
      "metadata": {
        "colab": {
          "base_uri": "https://localhost:8080/"
        },
        "id": "wzd8Xd5s3h8G",
        "outputId": "4086393d-428e-4148-cc1b-c235d08744cc"
      },
      "outputs": [
        {
          "name": "stdout",
          "output_type": "stream",
          "text": [
            "Menu\n",
            "print(\"Selecciona un ejericicio\")\n",
            "print('1')\n",
            "print('2')\n",
            "\n",
            "print (\"3 - salir\")\n",
            "\n",
            "Inserta un número valor >>  1\n",
            "Seleccione el ejercicio que desea ver\n",
            "3\n",
            "35\n",
            "36\n",
            "0-volver\n",
            "Ingrese el numero>> 3\n"
          ]
        }
      ],
      "source": [
        "#Menu\n",
        "\n",
        "import os\n",
        "\n",
        "menu=\"\"\"Menu\n",
        "print(\"Selecciona un ejericicio\")\n",
        "print('1')\n",
        "print('2')\n",
        "\n",
        "print (\"3 - salir\")\n",
        "\"\"\"\n",
        "\n",
        "print(menu)\n",
        "\n",
        "  #Solicitamos una opción al usuario\n",
        "opcionMenu = input(\"Inserta un número valor >>  \")\n",
        "\n",
        "if opcionMenu==\"1\":\n",
        "  print('Seleccione el ejercicio que desea ver')\n",
        "  print('3')\n",
        "  print('35')\n",
        "  print('36')\n",
        "  print('0-volver')\n",
        "  op=input('Ingrese el numero>> ')\n",
        "  if op ==3:\n",
        "    print(cant_dig(Num))\n",
        "    print(cant_digg(Num))\n",
        "    print(cant_diggg())\n",
        "    print(cant_digggg())\n",
        "  if op==35:\n",
        "    print()\n",
        "\n",
        "\n"
      ]
    }
  ]
}