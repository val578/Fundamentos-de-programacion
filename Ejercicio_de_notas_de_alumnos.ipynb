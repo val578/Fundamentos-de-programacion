{
  "nbformat": 4,
  "nbformat_minor": 0,
  "metadata": {
    "colab": {
      "provenance": [],
      "collapsed_sections": [],
      "authorship_tag": "ABX9TyOQLSO1y3Rvvo38P5M4lxgj",
      "include_colab_link": true
    },
    "kernelspec": {
      "name": "python3",
      "display_name": "Python 3"
    },
    "language_info": {
      "name": "python"
    }
  },
  "cells": [
    {
      "cell_type": "markdown",
      "metadata": {
        "id": "view-in-github",
        "colab_type": "text"
      },
      "source": [
        "<a href=\"https://colab.research.google.com/github/val578/Fundamentos-de-programacion/blob/main/Ejercicio_de_notas_de_alumnos.ipynb\" target=\"_parent\"><img src=\"https://colab.research.google.com/assets/colab-badge.svg\" alt=\"Open In Colab\"/></a>"
      ]
    },
    {
      "cell_type": "code",
      "execution_count": null,
      "metadata": {
        "id": "8YtcRjMshHDA"
      },
      "outputs": [],
      "source": [
        "#Documentacion\n",
        "\n",
        "\"\"\"\n",
        "Descripcion: leer de un estudiante su nombre y las notas de los 3 parciales, se \n",
        "necesita calcular su nota definitiva sabiendo que es el promedio de los parciales,\n",
        "ademas imprimiendo un concepto de si aprobo o reprobo\n",
        "\n",
        "Autor: Grupo FP_dia\n",
        "Fecha: 1-09-2022\n",
        "Version:1.0\n",
        "\n",
        "\"\"\"\n",
        "\n"
      ]
    },
    {
      "cell_type": "code",
      "source": [
        "#Declaracion de variables\n",
        "\n",
        "var_ent_cad_Nombredeestudiante=\"NN\"\n",
        "var_ent_float_notaPP=0.0\n",
        "var_ent_float_notaSP=0.0\n",
        "var_ent_float_notaTP=0.0\n",
        "var_proSal_float_notaDefPro=0.0\n",
        "var_proSal_float_notaDefPor=0.0\n",
        "var_proSal_cad_concepto=\"\"\n",
        "\n"
      ],
      "metadata": {
        "id": "cFdQyr_mh_78"
      },
      "execution_count": null,
      "outputs": []
    },
    {
      "cell_type": "code",
      "source": [
        "#Lectura de datos- Captura por teclado\n",
        "\n",
        "var_ent_cad_Nombredeestudiante=input(\"Digite el nombre del estudiante: \")\n",
        "var_ent_float_notaPP=float(input(\"Digite nota del primer parcial: \"))\n",
        "var_ent_float_notaSP=float(input(\"Digite nota del segundo parcial: \"))\n",
        "var_ent_float_notaTP=float(input(\"Digite nota del tercer parcial: \"))\n"
      ],
      "metadata": {
        "id": "NUEtS_0PjB9N"
      },
      "execution_count": null,
      "outputs": []
    },
    {
      "cell_type": "code",
      "source": [
        "#Procesos\n",
        "#Calculo de nota definitva por promedio \n",
        "\n",
        "var_proSal_float_notaDefPro=(var_ent_float_notaPP+var_ent_float_notaSP+var_ent_float_notaTP)/3\n",
        "\n",
        "#Calculo de nota definitiva por porcentaje\n",
        "\n",
        "var_proSal_float_notaDefPor=(var_ent_float_notaPP*0.25+var_ent_float_notaSP*0.25+var_ent_float_notaTP*0.50)\n",
        "\n",
        "#Calculo del concepto si aprueba\n",
        "\n",
        "if var_proSal_float_notaDefPro >=3.0:\n",
        "  var_proSal_cad_concepto=\"Aprobo- Te promueves al siguiente curso\"\n",
        "\n",
        "#Calculo del concepto no aprueba\n",
        "\n",
        "if var_proSal_float_notaDefPro <=3.0:\n",
        "  var_proSal_cad_concepto=\"Reprobo- Sigue intentandolo\"\n"
      ],
      "metadata": {
        "id": "hh0V7PKqjmgj"
      },
      "execution_count": null,
      "outputs": []
    },
    {
      "cell_type": "code",
      "source": [
        "#Salidas- o impresiones por pantalla\n",
        "\n",
        "print(\"Nombre del estudiante\",var_ent_cad_Nombredeestudiante )\n",
        "print(\"Definitiva por promedio\",var_proSal_float_notaDefPro)\n",
        "print(\"Concepto\",var_proSal_cad_concepto )\n",
        "print(\"Definitiva por porcentaje\",var_proSal_float_notaDefPor)"
      ],
      "metadata": {
        "id": "_-GOnJVwk-qZ"
      },
      "execution_count": null,
      "outputs": []
    }
  ]
}