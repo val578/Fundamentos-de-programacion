{
  "nbformat": 4,
  "nbformat_minor": 0,
  "metadata": {
    "colab": {
      "provenance": [],
      "collapsed_sections": [],
      "authorship_tag": "ABX9TyPt1cd7YtR+vVnMynvYWGZX",
      "include_colab_link": true
    },
    "kernelspec": {
      "name": "python3",
      "display_name": "Python 3"
    },
    "language_info": {
      "name": "python"
    }
  },
  "cells": [
    {
      "cell_type": "markdown",
      "metadata": {
        "id": "view-in-github",
        "colab_type": "text"
      },
      "source": [
        "<a href=\"https://colab.research.google.com/github/val578/Fundamentos-de-programacion/blob/main/Ejercicios_de_notas_con_ciclos_anidados.ipynb\" target=\"_parent\"><img src=\"https://colab.research.google.com/assets/colab-badge.svg\" alt=\"Open In Colab\"/></a>"
      ]
    },
    {
      "cell_type": "code",
      "source": [
        "#Ciclo anidados\n",
        "\n",
        "#Autor: Valeria Osorio Rios \n",
        "#Version: 1.0 \n",
        "\n",
        "#Importar numpy para poder agrupar numeros\n",
        "import numpy as np\n",
        "\n",
        "#Definir la cantidad de estudaintes =35\n",
        "\n",
        "CantAlumnos= 4\n",
        "Sumatorio=0\n",
        "i=0\n",
        "Notamayor=0.0\n",
        "Ganaron=0\n",
        "cantidadmaterias=3\n",
        "ciclosmaterias=0\n",
        "nombremateria =0\n",
        "estudiantemayor=\"\"\n",
        "\n",
        "\n",
        "\n",
        "\n",
        "\n"
      ],
      "metadata": {
        "id": "pbqe1B8HvpBH"
      },
      "execution_count": null,
      "outputs": []
    },
    {
      "cell_type": "markdown",
      "source": [
        "Media de las notas de 35 alumnos:\n",
        "En un fichero tenemos las notas de 35 alumnos de una clase en un array Nota(1), Nota(2), ..., Nota(35), establecidas entre cero y 10. Se desea desarrollar el pseudocódigo y diagrama de flujo para un programa que determine la nota media\n"
      ],
      "metadata": {
        "id": "wBB0bHp5re-v"
      }
    },
    {
      "cell_type": "code",
      "source": [
        "#Ciclos que repiten por numero de asignaturas \n",
        "\n",
        "for ciclosmaterias in range(cantidadmaterias):\n",
        "\n",
        "  nombremateria=input(\"Ingrese el nombre de la materia:\")\n",
        "\n",
        "  for i in range (CantAlumnos):\n",
        "    Nombre= input(\"Ingrese el nombre del estudiante:   \")\n",
        "    Nota= float(input(\"Nota:   \"))\n",
        "\n",
        "    #Definir el concepto de la nota 6 o 10 aprueba de lo contrario reprueba \n",
        "\n",
        "    if Nota >=6:\n",
        "      print(\"El estudiante aprobo la asignatura\")\n",
        "    else:\n",
        "      print(\"El estudiante reprobo la asignatura\")\n",
        "\n",
        "    #Definir la nota mayor \n",
        "\n",
        "    if (Nota > Notamayor):\n",
        "      Notamayor=Nota\n",
        "      estudiantemayor= Nombre\n",
        "\n",
        "    if Nota>=6.0:\n",
        "      Ganaron=Ganaron+1\n",
        "\n",
        "    \n",
        "    #Despues de los datos ingresados, calcular la suma de las notas \n",
        "\n",
        "    Sumatorio= Sumatorio+Nota\n",
        "\n",
        "  #Fin del ciclo\n",
        "\n",
        "\n",
        "\n",
        "#Calcular  cuantos ganaron y cuantos perdieron\n",
        "\n",
        "  Media= Sumatorio/CantAlumnos\n",
        "\n",
        "#Toca cambiar la media para que no sea un dato float sino un dato str\n",
        "\n",
        "  print(\"La nota mas alta es de:   \" ,estudiantemayor , \" Y su nota fue \" , (Notamayor))\n",
        "  print(\"La cantidad de estudiantes que ganaron son:  \",Ganaron)\n",
        "  print(\"El promedio del grupo de \"+nombremateria +\"El promedio es \" + str(Media))"
      ],
      "metadata": {
        "id": "0R3BkjAk1CSH"
      },
      "execution_count": null,
      "outputs": []
    }
  ]
}