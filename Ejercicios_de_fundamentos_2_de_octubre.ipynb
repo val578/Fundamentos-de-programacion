{
  "nbformat": 4,
  "nbformat_minor": 0,
  "metadata": {
    "colab": {
      "provenance": [],
      "collapsed_sections": [],
      "authorship_tag": "ABX9TyMCv/l2v6FNLQRGNGFF7dep",
      "include_colab_link": true
    },
    "kernelspec": {
      "name": "python3",
      "display_name": "Python 3"
    },
    "language_info": {
      "name": "python"
    }
  },
  "cells": [
    {
      "cell_type": "markdown",
      "metadata": {
        "id": "view-in-github",
        "colab_type": "text"
      },
      "source": [
        "<a href=\"https://colab.research.google.com/github/val578/Fundamentos-de-programacion/blob/main/Ejercicios_de_fundamentos_2_de_octubre.ipynb\" target=\"_parent\"><img src=\"https://colab.research.google.com/assets/colab-badge.svg\" alt=\"Open In Colab\"/></a>"
      ]
    },
    {
      "cell_type": "code",
      "execution_count": null,
      "metadata": {
        "id": "AHRayWkAPpIq"
      },
      "outputs": [],
      "source": [
        "#Autor: Valeria Osorio Rios\n",
        "#Fecha: 2 de octubre del 2022\n",
        "#Problema: Ejercicios de python \n",
        "#Version: 1.0"
      ]
    },
    {
      "cell_type": "markdown",
      "source": [
        "Ejercicio 1: Una funcion que reciba como parametro un entero y retorne su ultimo digito"
      ],
      "metadata": {
        "id": "8ZYtGXf0T46X"
      }
    },
    {
      "cell_type": "code",
      "source": [
        "#n debe ser entero y es un dato de entrada asi que debe haber un input\n",
        "\n",
        "\"Es un problema que recibe parametro y retnorna un valor\"\n",
        "\n",
        "\n",
        "def ult_dig(Num):\n",
        "  \n",
        "  Ultimo_digito= Num %10\n",
        "  return(Ultimo_digito)\n",
        "\n",
        "Num=int(input(\"Ingrese un numero:  \"))\n",
        "print(\"El Ultimo digito del numero es: \", ult_dig(Num))\n"
      ],
      "metadata": {
        "colab": {
          "base_uri": "https://localhost:8080/"
        },
        "id": "yR_sEFa_RS8p",
        "outputId": "c7134cc1-c833-424e-ace9-127946a9debe"
      },
      "execution_count": null,
      "outputs": [
        {
          "output_type": "stream",
          "name": "stdout",
          "text": [
            "Ingrese un numero:  525\n",
            "El Ultimo digito del numero es:  5\n"
          ]
        }
      ]
    },
    {
      "cell_type": "markdown",
      "source": [
        "Ejercicio 2: Una funcion que reciba como parametro un entero y retorne sus dos ultimos digitos"
      ],
      "metadata": {
        "id": "ecSWW0hjewDd"
      }
    },
    {
      "cell_type": "code",
      "source": [
        "#n debe ser entero y es un dato de entrada asi que debe haber un input\n",
        "\n",
        "\"Es un problema que recibe parametro y retnorna un valor\"\n",
        "\n",
        "\n",
        "def ult_dig(Num):\n",
        "  \n",
        "  Ultimo_digito= Num %100\n",
        "  return(Ultimo_digito)\n",
        "\n",
        "Num=int(input(\"Ingrese un numero:  \"))\n",
        "print(\"Los dos ultimos digitos son: \", ult_dig(Num))\n"
      ],
      "metadata": {
        "colab": {
          "base_uri": "https://localhost:8080/"
        },
        "id": "MJ3WrvcqevN1",
        "outputId": "ce417e0a-2f73-4b9f-aa95-5c121d5938d5"
      },
      "execution_count": null,
      "outputs": [
        {
          "output_type": "stream",
          "name": "stdout",
          "text": [
            "Ingrese un numero:  21\n",
            "Los dos ultimos digitos son:  21\n"
          ]
        }
      ]
    },
    {
      "cell_type": "markdown",
      "source": [
        "Ejercico 3: Una funcion que recibe un entero y retorne la cantidad de digitos"
      ],
      "metadata": {
        "id": "Ivs4GYRMgeCV"
      }
    },
    {
      "cell_type": "code",
      "source": [
        "#numero debe ser entero y es un dato de entrada\n",
        "\n",
        "'Es un problema que recibe parametro y retorna valor'\n",
        "\n",
        "def cant_dig(Num):\n",
        "  Cantidad_digito=0\n",
        "\n",
        "  #Condicional para que solo acepte valores enteros positivos \n",
        "\n",
        "  while Num>=1:\n",
        "    Num=Num//10\n",
        "    Cantidad_digito +=1\n",
        "    #Fin del ciclo while \n",
        "  return(Cantidad_digito)\n",
        "\n",
        "Num=int(input('Ingrese un numero:  '))\n",
        "print('La cantidad de digitos que tiene el numero que ingreso es:  ',cant_dig(Num))\n"
      ],
      "metadata": {
        "colab": {
          "base_uri": "https://localhost:8080/"
        },
        "id": "Otg1pwPehWBd",
        "outputId": "80d57fbc-2f58-4c88-9bc0-562a22dbd3bb"
      },
      "execution_count": null,
      "outputs": [
        {
          "output_type": "stream",
          "name": "stdout",
          "text": [
            "Ingrese un numero:  43\n",
            "La cantidad de digitos que tiene el numero que ingreso es:   2\n"
          ]
        }
      ]
    },
    {
      "cell_type": "markdown",
      "source": [
        "Ejercicio 4: Una funcion que reciba un entero y retorne la cantidad de digitos pares"
      ],
      "metadata": {
        "id": "F6jRyhMatLl0"
      }
    },
    {
      "cell_type": "code",
      "source": [
        "\n",
        "#numero debe ser entero y es un dato de entrada\n",
        "\n",
        "'Es un problema que recibe parametro y retorna valor'\n",
        "\n",
        "#Hay que generar una lista en donde se sepren todos los numeros que el usuario introduzca\n",
        "\n",
        "\n",
        "def cant_digpares(Num):\n",
        "  digits=str(Num)\n",
        "  count=0\n",
        "\n",
        "  for i in range(len(digits)):\n",
        "    if (int(digits[i]) % 2 == 0):\n",
        "      count += 1\n",
        "\n",
        "  return count\n",
        "\n",
        "\n",
        " \n",
        "\n",
        "    \n",
        "Num=int(input('Ingrese un numero:  '))\n",
        "\n",
        "#Ademas hay que pasar el dato de enrada a string\n",
        "\n",
        "print('La cantidad de digitos pares que tiene el numero que ingreso es:  ',cant_digpares(Num))\n",
        "\n",
        "\n"
      ],
      "metadata": {
        "colab": {
          "base_uri": "https://localhost:8080/"
        },
        "id": "FrVY5zzmtXcb",
        "outputId": "1092f21e-5497-4ad0-81ae-bb1c98bd46f7"
      },
      "execution_count": null,
      "outputs": [
        {
          "output_type": "stream",
          "name": "stdout",
          "text": [
            "Ingrese un numero:  55\n",
            "La cantidad de digitos pares que tiene el numero que ingreso es:   0\n"
          ]
        }
      ]
    },
    {
      "cell_type": "markdown",
      "source": [
        "Ejercicio 5: Una funcion que reciba como parametro un entero  y retorne la cantidad de digitos primos"
      ],
      "metadata": {
        "id": "GmU5FkSSoIgx"
      }
    },
    {
      "cell_type": "code",
      "source": [
        "#Numero debe ser entero y es un dato de entrada\n",
        "\n",
        "#Es una funcion que recibe y retorna valor \n",
        "\n",
        "def cant_digprimos(Num):\n",
        "  digits=str(Num)\n",
        "  Cuenta_Dig=0\n",
        "\n",
        "  for i in range(len(digits)):\n",
        "    if (int(digits[i]) % 10 == 2) or (int(digits[i]) % 10 == 5) or (int(digits[i]) % 10 == 7) or (int(digits[i]) % 10 == 3):\n",
        "      Cuenta_Dig=Cuenta_Dig+1\n",
        "\n",
        "  return Cuenta_Dig\n",
        "\n",
        "\n",
        "Num=int(input(\"Ingrese un numero: \"))\n",
        "print(\"La cantidad de digitos primos es\",cant_digprimos(Num))"
      ],
      "metadata": {
        "colab": {
          "base_uri": "https://localhost:8080/"
        },
        "id": "jfwNc1GioUtg",
        "outputId": "454d58ae-ceed-4829-c465-cd7c7fd812ae"
      },
      "execution_count": null,
      "outputs": [
        {
          "output_type": "stream",
          "name": "stdout",
          "text": [
            "Ingrese un numero: 3333333\n",
            "La cantidad de digitos primos es 7\n"
          ]
        }
      ]
    },
    {
      "cell_type": "markdown",
      "source": [
        "Ejercicio 6: Construir una funcion que reciba como parametro un entero y retorne un caracter como codigo ASCll "
      ],
      "metadata": {
        "id": "OV6F3OxPubV8"
      }
    },
    {
      "cell_type": "code",
      "source": [
        "def Entero_ASCii(Num):\n",
        "  digits=str(Num)\n",
        "  Caracter_ASCii=[]\n",
        "\n",
        "  for i in digits:\n",
        "    Caracter_ASCii.append(ord(i))\n",
        "  return Caracter_ASCii\n",
        "\n",
        "Num=int(input(\"Ingrese un numero: \"))\n",
        "print(\"El entero en codigo ASCii es: \",Entero_ASCii(Num))"
      ],
      "metadata": {
        "colab": {
          "base_uri": "https://localhost:8080/"
        },
        "id": "Usmd45gduv12",
        "outputId": "95aee781-b758-4a21-8c5c-91c9424ca1ee"
      },
      "execution_count": null,
      "outputs": [
        {
          "output_type": "stream",
          "name": "stdout",
          "text": [
            "Ingrese un numero: 24\n",
            "El entero en codigo ASCii es:  [50, 52]\n"
          ]
        }
      ]
    },
    {
      "cell_type": "markdown",
      "source": [
        "Ejercicio 7: Construir una funcion que reciba un caracter y retorne el entero asociado a el"
      ],
      "metadata": {
        "id": "JTd31nIezlUY"
      }
    },
    {
      "cell_type": "code",
      "source": [
        "def Entero_ASCii(Num):\n",
        "  digits=str(Num)\n",
        "  Caracter_ASCii=0\n",
        "\n",
        "  for i in digits:\n",
        "    Caracter_ASCii=(ord(i))\n",
        "  return Caracter_ASCii\n",
        "\n",
        "Num=(input(\"Ingrese el codigo ASCii: \"))\n",
        "print(\"El entero en codigo ASCii es: \",Entero_ASCii(Num))"
      ],
      "metadata": {
        "colab": {
          "base_uri": "https://localhost:8080/"
        },
        "id": "kPVNuSrbzs9a",
        "outputId": "b88a6eee-180d-43a8-f777-4d82eb409e76"
      },
      "execution_count": null,
      "outputs": [
        {
          "output_type": "stream",
          "name": "stdout",
          "text": [
            "Ingrese el codigo ASCii: 24\n",
            "El entero en codigo ASCii es:  52\n"
          ]
        }
      ]
    },
    {
      "cell_type": "markdown",
      "source": [
        "8.construir una funcion que reciba como parametro un entero si dicho entero esta entre los 30 primero elementos de la serie fibonacci, de lo contrario retorne 0"
      ],
      "metadata": {
        "id": "9qUG0kYIjEoP"
      }
    },
    {
      "cell_type": "code",
      "source": [
        "def fibonacci(n):\n",
        "    a = 0\n",
        "    b = 1\n",
        "    if n >=30:\n",
        "        print(\"Incorrect input\")\n",
        "    elif n == 0:\n",
        "        return a\n",
        "    elif n == 1:\n",
        "        return b\n",
        "    else:\n",
        "        for i in range(2,n+1):\n",
        "            c = a + b\n",
        "            a = b\n",
        "            b = c\n",
        "        return b\n",
        " \n",
        "\n",
        "n=input(\"Ingrese el número: \")\n",
        "print(\"El número fibonacci es: \",fibonacci)"
      ],
      "metadata": {
        "id": "vS9xTpHnlBVB"
      },
      "execution_count": null,
      "outputs": []
    },
    {
      "cell_type": "code",
      "source": [
        "def fibonacci(n):\n",
        "    a = 0\n",
        "    b = 1\n",
        "    if n >=30:\n",
        "        print(\"Incorrect input\")\n",
        "    elif n == 0:\n",
        "        return a\n",
        "    elif n == 1:\n",
        "        return b\n",
        "    else:\n",
        "        for i in range(3,n+1):\n",
        "            f.append(f[i-1] + f[i-2])\n",
        "            f = a + b\n",
        "            a = b\n",
        "            b = f\n",
        "        return b\n",
        " \n",
        "\n",
        "n=input(\"Ingrese el número: \")\n",
        "print(\"El número fibonacci es: \",fibonacci)"
      ],
      "metadata": {
        "id": "JC-jFllclRwo"
      },
      "execution_count": null,
      "outputs": []
    },
    {
      "cell_type": "markdown",
      "source": [
        "9.Construir una funcion que reciba un enetero y calcule su factorial "
      ],
      "metadata": {
        "id": "QoBuuh7nlM80"
      }
    },
    {
      "cell_type": "code",
      "source": [
        "def factorial(n): \n",
        "    return 1 if (n==1 or n==0) else n * factorial(n - 1);  \n",
        "  \n",
        "num =int(input(\"Ingrese el número: \")) \n",
        "print(\"Factorial of\",num,\"is\", factorial(num))"
      ],
      "metadata": {
        "colab": {
          "base_uri": "https://localhost:8080/"
        },
        "id": "4jmKvXsblotO",
        "outputId": "f242dfda-c3dc-4e7d-db15-6717f5c5d6dd"
      },
      "execution_count": null,
      "outputs": [
        {
          "output_type": "stream",
          "name": "stdout",
          "text": [
            "Ingrese el número: 8\n",
            "Factorial of 8 is 40320\n"
          ]
        }
      ]
    },
    {
      "cell_type": "markdown",
      "source": [
        "10. Construir una funcionque reciba como parametro un entero y retorne el primer digito de este numero"
      ],
      "metadata": {
        "id": "R3PZl2FjmBG_"
      }
    },
    {
      "cell_type": "code",
      "source": [
        "#Este ejercicio es para maximo cifras de 6 ceros o 7 digitos\n",
        "\n",
        "def primer_dig(num):\n",
        "  if num<=99:\n",
        "    num//= 10\n",
        "  elif num<=999:\n",
        "    num//=100\n",
        "  elif num<=9999:\n",
        "    num//=1000\n",
        "  elif num<=99999:\n",
        "    num//=10000\n",
        "  elif num<=999999:\n",
        "    num//=100000\n",
        "  elif num<=9999999:\n",
        "    num//=1000000\n",
        "\n",
        "  return(num)\n",
        "\n",
        "\n",
        "num=int(input(\"Ingrese el digito: \"))\n",
        "print(\"El primer digito es: \",primer_dig(num))"
      ],
      "metadata": {
        "colab": {
          "base_uri": "https://localhost:8080/"
        },
        "id": "F7u1RvqSmCKe",
        "outputId": "650dfcd7-b176-4755-94be-40497087c395"
      },
      "execution_count": null,
      "outputs": [
        {
          "output_type": "stream",
          "name": "stdout",
          "text": [
            "Ingrese el digito: 233455\n",
            "El primer digito es:  2\n"
          ]
        }
      ]
    },
    {
      "cell_type": "markdown",
      "source": [
        "11. Construir una funcion que reciba como parametro un entero y un digito y retorne 1 si dicho entero es multiplo de dicho digito  y 0 si no es asi"
      ],
      "metadata": {
        "id": "VxHtqIGwn60m"
      }
    },
    {
      "cell_type": "code",
      "source": [
        "def multiplo(a,b):\n",
        "  return 1 if a % b == 0 else 0\n",
        "a=int(input(\"Ingrese el valor del numero..:\"))\n",
        "b=int(input(\"Ingrese el valor del digito..:\"))\n",
        "print(multiplo(a,b))"
      ],
      "metadata": {
        "colab": {
          "base_uri": "https://localhost:8080/"
        },
        "id": "ID6TJ4w4n_u7",
        "outputId": "05aa3f59-d30b-4f99-b93d-d694dec7965e"
      },
      "execution_count": null,
      "outputs": [
        {
          "output_type": "stream",
          "name": "stdout",
          "text": [
            "Ingrese el valor del numero..:34\n",
            "Ingrese el valor del digito..:2\n",
            "1\n"
          ]
        }
      ]
    },
    {
      "cell_type": "markdown",
      "source": [
        "12."
      ],
      "metadata": {
        "id": "aJtrwnMEoMPm"
      }
    },
    {
      "cell_type": "code",
      "source": [
        "def DigEnNum(a,b):\n",
        "  while a>=0:\n",
        "        return True if a % 10 == b  else False        \n",
        "a=int(input(\"Ingrese el valor del numero..:\"))\n",
        "b=int(input(\"Ingrese el valor del digito..:\"))\n",
        "entero=0\n",
        "print(DigEnNum(a,b))"
      ],
      "metadata": {
        "colab": {
          "base_uri": "https://localhost:8080/"
        },
        "id": "HsggKKYsoNE2",
        "outputId": "1e26205a-f9dd-4253-b2b4-93f6dae1f02c"
      },
      "execution_count": null,
      "outputs": [
        {
          "output_type": "stream",
          "name": "stdout",
          "text": [
            "Ingrese el valor del numero..:4567\n",
            "Ingrese el valor del digito..:7\n",
            "True\n"
          ]
        }
      ]
    },
    {
      "cell_type": "markdown",
      "source": [
        "13."
      ],
      "metadata": {
        "id": "-PKWdopio3Vg"
      }
    },
    {
      "cell_type": "code",
      "source": [
        "def cont(num,dig):\n",
        "  contador=0\n",
        "  if num>=0:\n",
        "   if num %10 == dig:\n",
        "      contador=contador+1\n",
        "  num//=10\n",
        "  return contador\n",
        "num=int(input(\"Ingrese el valor del numero..:\"))\n",
        "dig=int(input(\"Ingrese el valor del digito..:\"))\n",
        "print(\"cantidad de veces que esta el digito..:\",cont(num,dig))"
      ],
      "metadata": {
        "colab": {
          "base_uri": "https://localhost:8080/"
        },
        "id": "zzgUwx7Vo8e7",
        "outputId": "3852f0a6-d95c-440c-cf57-542d1bdf36bb"
      },
      "execution_count": null,
      "outputs": [
        {
          "output_type": "stream",
          "name": "stdout",
          "text": [
            "Ingrese el valor del numero..:455567\n",
            "Ingrese el valor del digito..:5\n",
            "cantidad de veces que esta el digito..: 0\n"
          ]
        }
      ]
    },
    {
      "cell_type": "markdown",
      "source": [
        "14."
      ],
      "metadata": {
        "id": "M6P33P0ppROR"
      }
    },
    {
      "cell_type": "code",
      "source": [
        "def num(num1,num2):\n",
        "  if num1>num2:\n",
        "    return num1\n",
        "  else:\n",
        "    return num2\n",
        "num1=int(input(\"Ingrese el valor del numero 1..:\"))\n",
        "num2=int(input(\"Ingrese el valor del numero 2..:\"))\n",
        "print(num(num1,num2)"
      ],
      "metadata": {
        "colab": {
          "base_uri": "https://localhost:8080/",
          "height": 131
        },
        "id": "9QrBsl0FpYAw",
        "outputId": "6ce5cd92-c7b4-46ea-b818-593283339dc1"
      },
      "execution_count": null,
      "outputs": [
        {
          "output_type": "error",
          "ename": "SyntaxError",
          "evalue": "ignored",
          "traceback": [
            "\u001b[0;36m  File \u001b[0;32m\"<ipython-input-14-44f44e41a0fd>\"\u001b[0;36m, line \u001b[0;32m8\u001b[0m\n\u001b[0;31m    print(num(num1,num2)\u001b[0m\n\u001b[0m                        ^\u001b[0m\n\u001b[0;31mSyntaxError\u001b[0m\u001b[0;31m:\u001b[0m unexpected EOF while parsing\n"
          ]
        }
      ]
    },
    {
      "cell_type": "markdown",
      "source": [
        "15."
      ],
      "metadata": {
        "id": "TFx8Z9TYpaXQ"
      }
    },
    {
      "cell_type": "code",
      "source": [
        "def multiplo(num1,num2):\n",
        "  if num1 % num2 == 0:\n",
        "    return True\n",
        "  else:\n",
        "      return False\n",
        "num1=int(input(\"Ingrese el valor del numero..:\"))\n",
        "num2=int(input(\"Ingrese el valor del numero..:\"))\n",
        "entero=0\n",
        "print(multiplo(num1,num2))"
      ],
      "metadata": {
        "id": "fqqXYUr3pbHT"
      },
      "execution_count": null,
      "outputs": []
    }
  ]
}