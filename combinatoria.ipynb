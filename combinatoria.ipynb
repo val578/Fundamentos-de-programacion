{
  "nbformat": 4,
  "nbformat_minor": 0,
  "metadata": {
    "colab": {
      "provenance": [],
      "collapsed_sections": [],
      "authorship_tag": "ABX9TyOjgDRJ1BKqrCE+izxyAxei",
      "include_colab_link": true
    },
    "kernelspec": {
      "name": "python3",
      "display_name": "Python 3"
    },
    "language_info": {
      "name": "python"
    }
  },
  "cells": [
    {
      "cell_type": "markdown",
      "metadata": {
        "id": "view-in-github",
        "colab_type": "text"
      },
      "source": [
        "<a href=\"https://colab.research.google.com/github/val578/Fundamentos-de-programacion/blob/main/combinatoria.ipynb\" target=\"_parent\"><img src=\"https://colab.research.google.com/assets/colab-badge.svg\" alt=\"Open In Colab\"/></a>"
      ]
    },
    {
      "cell_type": "code",
      "execution_count": null,
      "metadata": {
        "colab": {
          "base_uri": "https://localhost:8080/"
        },
        "id": "l_ICONJD8Ig1",
        "outputId": "bdb1d4ff-893d-42ea-9df1-3bf0f5242c40"
      },
      "outputs": [
        {
          "output_type": "stream",
          "name": "stdout",
          "text": [
            "Digite numero para calcular su factorial:  4\n",
            "1\n",
            "2\n",
            "6\n",
            "24\n"
          ]
        }
      ],
      "source": [
        "#programa: ejemplo funciones \n",
        "#Autor: Valeria Osorio Rios\n",
        "#Fecha: 26_09_2022\n",
        "#Version 1.0\n",
        "\n",
        "\n",
        "num=1\n",
        "fac=1\n",
        "num=int(input(\"Digite numero para calcular su factorial:  \"))\n",
        "\n",
        "for i in range(1,num+1):\n",
        "  fac=fac*i\n",
        "  print(fac)\n",
        "\n"
      ]
    },
    {
      "cell_type": "code",
      "source": [
        "facM=1\n",
        "facN=1\n",
        "facMN=1\n",
        "\n",
        "n=int(input(\"Ingrese el numero N: \"))\n",
        "m=int(input(\"Ingrese el numero M: \"))\n",
        "\n",
        "if (m>=n):\n",
        "#FACTORIAL DE M\n",
        "  for i in range(1,m+1):\n",
        "    facM=facM*i\n",
        "    \n",
        "\n",
        "#FACTORIAL DE N\n",
        "  for i in range(1,n+1):\n",
        "      facN=facN*i\n",
        "      \n",
        "\n",
        "#Factorial M-N\n",
        "\n",
        "  for i in range(1,(m-n+1)):\n",
        "      facMN=facMN*i\n",
        "      \n",
        "\n",
        "\n",
        "#C A L C U L A R    C O M B I N A T O R I A\n",
        "\n",
        "  com= facM/(facN*facMN)\n",
        "  print(\"La combinatoria de M-N:  \", com)\n",
        "\n",
        "\n",
        "else:\n",
        "  print(\"Error- M no es mayor que N\")\n",
        "\n",
        "\n"
      ],
      "metadata": {
        "colab": {
          "base_uri": "https://localhost:8080/"
        },
        "id": "bXTx5W0QFEOr",
        "outputId": "37875399-3b0b-4166-e00f-b9da5d1ecbdc"
      },
      "execution_count": null,
      "outputs": [
        {
          "output_type": "stream",
          "name": "stdout",
          "text": [
            "Ingrese el numero N: 2\n",
            "Ingrese el numero M: 4\n",
            "La combinatoria de M-N:   6.0\n"
          ]
        }
      ]
    }
  ]
}