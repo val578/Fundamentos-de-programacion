{
  "nbformat": 4,
  "nbformat_minor": 0,
  "metadata": {
    "colab": {
      "provenance": [],
      "collapsed_sections": [],
      "include_colab_link": true
    },
    "kernelspec": {
      "name": "python3",
      "display_name": "Python 3"
    },
    "language_info": {
      "name": "python"
    }
  },
  "cells": [
    {
      "cell_type": "markdown",
      "metadata": {
        "id": "view-in-github",
        "colab_type": "text"
      },
      "source": [
        "<a href=\"https://colab.research.google.com/github/val578/Fundamentos-de-programacion/blob/main/Tarea_de_programacion.ipynb\" target=\"_parent\"><img src=\"https://colab.research.google.com/assets/colab-badge.svg\" alt=\"Open In Colab\"/></a>"
      ]
    },
    {
      "cell_type": "markdown",
      "source": [
        "Programa para el salario"
      ],
      "metadata": {
        "id": "p74TOjSFA9ZW"
      }
    },
    {
      "cell_type": "code",
      "source": [
        "#Definir variables\n",
        "\n",
        "acuSalario=0\n",
        "acuImp=0\n",
        "\n",
        "cant_emp=int (input(\"Ingrese cantidad de empleados:  \"))\n",
        "\n",
        "for i in range (cant_emp):\n",
        "  Nombre= input(\"Ingrese el nombre del empleado:   \")\n",
        "  Genero= input(\"Indique su genero (hombre o mujer\")\n",
        "  Tarifa= float (input(\"Ingrese el salario basico por hora:   \"))\n",
        "  Horas= int (input(\"Ingrese las horas trabajadas durante la semana:   \"))\n",
        "\n",
        "  #Verificar si horas trabajadas es <= 35 y poner condicionales\n",
        "\n",
        "  if Horas<=35:\n",
        "    Salario=Horas*Tarifa\n",
        "    print(\"El salario semanal  es\",Salario)\n",
        "  else:\n",
        "    Salario= 35*Tarifa+(Horas - 35) *Tarifa*1.5\n",
        "    print(\"El salario semanal con recargo es\",Salario)\n",
        "\n",
        "\n",
        "  #Calculo de impuesto \n",
        "\n",
        "  if Salario<=2000:\n",
        "    Impuestos=0\n",
        "    print(\"El total de impuesto es\",Impuestos)\n",
        "  elif Salario<=2200:\n",
        "    Impuestos= (Salario-2000)*0.20\n",
        "    print(\"El total de impuesto es\",Impuestos)\n",
        "  elif Salario > 2220:\n",
        "    Impuestos=(Salario-2220)*0.30 + (220*0.20)\n",
        "    print(\"El total de impuesto es\",Impuestos)\n",
        "    acuImp=acuImp+Impuestos\n",
        "    \n",
        "  #Calculo del salario neto\n",
        "\n",
        "  Salario_neto= Salario-Impuestos\n",
        "  print(\"El salario neto semanal es de: \",Salario_neto)\n",
        "  acuSalario=acuSalario+Salario_neto\n",
        "\n",
        " #Fin del ciclo\n",
        "print(\"Los impuestos a pagar son:  \",acuImp)\n",
        "print(\"El valor total de la nomina:  \",acuSalario)\n",
        "#acumulador de impuesto= impuestos+acumulador de impuestos\n",
        "#Acumulador a pagar=acumulador neto a pagar+salario neto\n",
        "\n",
        "\n",
        "\n",
        "\n",
        "\n",
        "\n",
        "  \n",
        "\n",
        "\n",
        "\n",
        "\n"
      ],
      "metadata": {
        "colab": {
          "base_uri": "https://localhost:8080/"
        },
        "id": "UTuuRBaZBPqz",
        "outputId": "3de47f70-95ba-474d-866c-3910003b64c8"
      },
      "execution_count": null,
      "outputs": [
        {
          "output_type": "stream",
          "name": "stdout",
          "text": [
            "Ingrese cantidad de empleados:  2\n",
            "Ingrese el nombre del empleado:   empleado1\n",
            "Ingrese el salario basico por hora:   18\n",
            "Ingrese las horas trabajadas durante la semana:   35\n",
            "El salario semanal  es 630.0\n",
            "El total de impuesto es 0\n",
            "El salario neto semanal es de:  630.0\n",
            "Ingrese el nombre del empleado:   empleado2\n",
            "Ingrese el salario basico por hora:   18\n",
            "Ingrese las horas trabajadas durante la semana:   45\n",
            "El salario semanal con recargo es 900.0\n",
            "El total de impuesto es 0\n",
            "El salario neto semanal es de:  900.0\n",
            "Los impuestos a pagar son:   0\n",
            "El valor total de la nomina:   1530.0\n"
          ]
        }
      ]
    },
    {
      "cell_type": "markdown",
      "source": [
        "Calculo del area de un triangulo conociendo sus lados"
      ],
      "metadata": {
        "id": "6UOg4VmUPdgj"
      }
    },
    {
      "cell_type": "code",
      "source": [
        "import numpy as np\n",
        "\n",
        "#Identificar variables\n",
        "\n",
        "a=float(input(\"Ingrese el valor de un lado\"))\n",
        "b=float(input(\"Ingrese el valor de un lado\"))\n",
        "c=float(input(\"Ingrese el valor de un lado\"))\n",
        "\n",
        "#Determinar el perimetro\n",
        "\n",
        "p=(a+b+c)/2\n",
        "\n",
        "if (p>a)and (p>b)and(p>c):\n",
        "  Area=np.sqrt(p*(p-a)*(p-b)*(p-c))\n",
        "  print(\"El area de un triangulo es:   \",Area)\n",
        "else:\n",
        "  print(\"No es un triangulo\")\n"
      ],
      "metadata": {
        "colab": {
          "base_uri": "https://localhost:8080/"
        },
        "id": "qw2_z26gPwvk",
        "outputId": "bafcd1de-fdb1-4411-8aea-787039878093"
      },
      "execution_count": null,
      "outputs": [
        {
          "output_type": "stream",
          "name": "stdout",
          "text": [
            "Ingrese el valor de un lado-4\n",
            "Ingrese el valor de un lado2\n",
            "Ingrese el valor de un lado6\n",
            "No es un triangulo\n"
          ]
        }
      ]
    },
    {
      "cell_type": "markdown",
      "source": [
        "Escribir un algoritmo que acepte un angulo y determne que tipo de triangulo es"
      ],
      "metadata": {
        "id": "t5nLbrgotUeV"
      }
    },
    {
      "cell_type": "code",
      "source": [
        "a=float(input(\"Digite el valor del angulo:  \"))\n",
        "\n",
        "if (a<90):\n",
        "  print(\"Es un angulo agudo\")\n",
        "elif (a==90):\n",
        "  print(\"Es un angulo recto\")\n",
        "elif (a>90):\n",
        "  print(\"Es un angulo obstuso\")"
      ],
      "metadata": {
        "colab": {
          "base_uri": "https://localhost:8080/"
        },
        "id": "Xa43nxEltb4v",
        "outputId": "12d506f5-d174-4476-8b3c-23d8d8a4d050"
      },
      "execution_count": null,
      "outputs": [
        {
          "output_type": "stream",
          "name": "stdout",
          "text": [
            "Digite el valor del angulo:  90\n",
            "Es un angulo recto\n"
          ]
        }
      ]
    },
    {
      "cell_type": "markdown",
      "source": [
        "Algoritmo de la semana"
      ],
      "metadata": {
        "id": "ua30hChEXLRi"
      }
    },
    {
      "cell_type": "code",
      "source": [
        "Dia=int(input(\"Ingrese un numero del 1 al 7:   \"))\n",
        "\n",
        "#Ya que el metodo switch no esta disponible para python lo realizaremos por if\n",
        "\n",
        "if Dia==1:\n",
        "  print(\"Lunes\")\n",
        "elif Dia==2:\n",
        "  print(\"Martes\")\n",
        "elif Dia==3:\n",
        "  print(\"Miercoles\")\n",
        "elif Dia==4:\n",
        "  print(\"Jueves\")\n",
        "elif Dia==5:\n",
        "   print(\"Viernes\")\n",
        "elif Dia==6:\n",
        "  print(\"Sabado\")\n",
        "elif Dia==7:\n",
        "  print(\"Domingo\")\n",
        "\n",
        "else:\n",
        "  print(\"ERROR\")\n",
        "   \n",
        "\n",
        "\n",
        "\n",
        "\n",
        " \n",
        "\n"
      ],
      "metadata": {
        "colab": {
          "base_uri": "https://localhost:8080/"
        },
        "id": "Wk8WBXgNXWXQ",
        "outputId": "d94ec450-94a0-492e-8f83-753b8359019d"
      },
      "execution_count": null,
      "outputs": [
        {
          "output_type": "stream",
          "name": "stdout",
          "text": [
            "Ingrese un numero del 1 al 7:   3\n",
            "Miercoles\n"
          ]
        }
      ]
    }
  ]
}