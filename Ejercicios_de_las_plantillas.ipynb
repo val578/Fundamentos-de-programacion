{
  "nbformat": 4,
  "nbformat_minor": 0,
  "metadata": {
    "colab": {
      "provenance": [],
      "collapsed_sections": [],
      "authorship_tag": "ABX9TyOMSPhW/uwC6qZdGS/rAfgL",
      "include_colab_link": true
    },
    "kernelspec": {
      "name": "python3",
      "display_name": "Python 3"
    },
    "language_info": {
      "name": "python"
    }
  },
  "cells": [
    {
      "cell_type": "markdown",
      "metadata": {
        "id": "view-in-github",
        "colab_type": "text"
      },
      "source": [
        "<a href=\"https://colab.research.google.com/github/val578/Fundamentos-de-programacion/blob/main/Ejercicios_de_las_plantillas.ipynb\" target=\"_parent\"><img src=\"https://colab.research.google.com/assets/colab-badge.svg\" alt=\"Open In Colab\"/></a>"
      ]
    },
    {
      "cell_type": "markdown",
      "source": [
        "Fundamentos de programacion"
      ],
      "metadata": {
        "id": "NVttG7JXR-6I"
      }
    },
    {
      "cell_type": "markdown",
      "source": [
        "Ejercicio 1: Un camion circula por la carretera a 20m/s. En 5s, su velocidad pasa a ser de 25m/s ¿Cual ha sido su aceleracion?"
      ],
      "metadata": {
        "id": "Q-Cw5dWnK2rs"
      }
    },
    {
      "cell_type": "code",
      "source": [
        "#Obtencion de datos y declaracion de variables \n",
        "\n",
        "Vo= 20 \n",
        "t= 5 \n",
        "Vf=25 \n",
        "\n",
        "#Calculo de aceleracion\n",
        "\n",
        "a=(Vf-Vo)/t\n",
        "\n",
        "#Imprimir resultados\n",
        "\n",
        "print(\"La aceleracion del camnion es de {} m/s^2\".format(a))"
      ],
      "metadata": {
        "colab": {
          "base_uri": "https://localhost:8080/"
        },
        "id": "RdEclloKLU0a",
        "outputId": "59df6d63-29e9-469c-dd95-0162eafca575"
      },
      "execution_count": null,
      "outputs": [
        {
          "output_type": "stream",
          "name": "stdout",
          "text": [
            "La aceleracion del camnion es de 1.0 m/s\n"
          ]
        }
      ]
    },
    {
      "cell_type": "markdown",
      "source": [
        "Ejercicio 2: Un formula 1 que parte del reposo alcanza una velocidad de 216 km/h en 10 s. Calcula su aceleracion"
      ],
      "metadata": {
        "id": "1Pi1bSanPIHt"
      }
    },
    {
      "cell_type": "code",
      "source": [
        "#Captura de datos y declaracion de variables\n",
        "\n",
        "\"Ya que el formula 1 parte del reposo significa que su velocidad inicial es de 0 m/s\"\n",
        "\n",
        "Vo= 0\n",
        "\n",
        "\"Ya que la velocidad final es de 216 km/h se debe convertir en m/s\"\n",
        "\n",
        "Vf= 216*(1000/3600)\n",
        "t= 10\n",
        "\n",
        "#Declaracion de formula \n",
        "\n",
        "a=(Vf-Vo)/t\n",
        "\n",
        "#Imprimir resultados \n",
        "\n",
        "print(\"La aceleracion es de {} m/s^2\".format(a))\n"
      ],
      "metadata": {
        "colab": {
          "base_uri": "https://localhost:8080/"
        },
        "id": "BA_tmL59QEip",
        "outputId": "51588851-9cb5-4d08-be5b-a206c5475a2f"
      },
      "execution_count": null,
      "outputs": [
        {
          "output_type": "stream",
          "name": "stdout",
          "text": [
            "La aceleracion es de 6.0 m/s\n"
          ]
        }
      ]
    },
    {
      "cell_type": "markdown",
      "source": [
        "Ejercicio 3: Una locomotora necesita 10s para alcanzar su velocidad normal de 25m/s. \n",
        "Suponiendo que su movimiento es uniformemente acelerado ¿Que aceleracion se le ha comunicado y que espacio ha recorrido antes de alcanzar la velocidad regular? "
      ],
      "metadata": {
        "id": "MsIDVL0tSFzA"
      }
    },
    {
      "cell_type": "code",
      "source": [
        "#Captura de daatos y declaracion de variables\n",
        "\n",
        "\"Ya que no nos habla de una velocidad inicial se podria tomar como 0 m/s\"\n",
        "\n",
        "Vo= 0\n",
        "Vf= 25\n",
        "t= 10\n",
        "\n",
        "#Declarar formula \n",
        "\n",
        "a= (Vf-Vo)/t\n",
        "\n",
        "x= (Vo*t)+((a*t**(2))/2)\n",
        "\n",
        "#Imprimir resultado del ejercicio\n",
        "\n",
        "print(\"La aceleracion de la locomotora es de {} m/s^2\".format(a))\n",
        "print(\"La distancia de la locomotora es de {} m\".format(x))"
      ],
      "metadata": {
        "colab": {
          "base_uri": "https://localhost:8080/"
        },
        "id": "9k4-n-a8S9tF",
        "outputId": "909aadc7-f8ac-4ff9-9ca6-1d96e28e07a2"
      },
      "execution_count": null,
      "outputs": [
        {
          "output_type": "stream",
          "name": "stdout",
          "text": [
            "La aceleracion de la locomotora es de 2.5 m/s^2\n",
            "La distancia de la locomotora es de 125.0 m\n"
          ]
        }
      ]
    },
    {
      "cell_type": "markdown",
      "source": [
        "Ejercicio 4: Un cuerpo posee una velocidad inicial de 12 m/s y una aceleracion de 2m/s^2 ¿Cuanto tiempo tardara en adquirir una velocidad de 144km/h?"
      ],
      "metadata": {
        "id": "J9tIA4-0U6iF"
      }
    },
    {
      "cell_type": "code",
      "source": [
        "#Captura de datos y declaracion de datos \n",
        "\n",
        "Vo= 12\n",
        "\n",
        "\"Ya que la velocidad final esta en diferente unidad toca convertirlo de km/h a m/s\"\n",
        "\n",
        "Vf= 144*(1000/3600)\n",
        "\n",
        "a=2\n",
        "\n",
        "#Declarar formula \n",
        "\n",
        "t=(Vf-Vo)/a\n",
        "\n",
        "#Imprimir resultado \n",
        "\n",
        "print(\"El tiempo que el cuerpo tarda en alcanzar una velocidad de 144km/h (40 m/s) es de: {} s\".format(t))\n"
      ],
      "metadata": {
        "colab": {
          "base_uri": "https://localhost:8080/"
        },
        "id": "rIzW2rgRVhfE",
        "outputId": "619227c7-004f-475c-dd03-2accfab03ffc"
      },
      "execution_count": null,
      "outputs": [
        {
          "output_type": "stream",
          "name": "stdout",
          "text": [
            "El tiempo que el cuerpo tarda en alcanzar una velocidad de 144km/h (40 m/s) es de: 14.0 s\n"
          ]
        }
      ]
    },
    {
      "cell_type": "markdown",
      "source": [
        "Ejercicio 5: Calcular el area de un cono de altura inclinada 15cm y diametro de 6cm"
      ],
      "metadata": {
        "id": "Y03NsrdBW6BG"
      }
    },
    {
      "cell_type": "code",
      "source": [
        "#Primero se importa la libreria \n",
        "\n",
        "import numpy as np\n",
        "\n",
        "#Captura de datos \n",
        "\n",
        "Alturainclinada= 15\n",
        "\n",
        "diametro= 6\n",
        "\n",
        "\"Para la formula se necesita el radio y ya que el diametro es el doble del radio el radio seria la mitad\"\n",
        "\n",
        "Radio= diametro/2\n",
        "\n",
        "#Declarar formula\n",
        "\n",
        "Area= np.pi *Radio*(Radio + Alturainclinada)\n",
        "\n",
        "#Imprimir resultado \n",
        "\n",
        "print(\"El area del cono es de: {} cm\".format(Area))\n"
      ],
      "metadata": {
        "colab": {
          "base_uri": "https://localhost:8080/"
        },
        "id": "p7y2jFt2XXEU",
        "outputId": "a22cc0fc-5265-44d5-d057-a63bdb63735d"
      },
      "execution_count": null,
      "outputs": [
        {
          "output_type": "stream",
          "name": "stdout",
          "text": [
            "El area del cono es de: 169.64600329384882 cm\n"
          ]
        }
      ]
    },
    {
      "cell_type": "markdown",
      "source": [
        "Ejercicio 6: Calcular el volumen de un cono de altura 5dm y radio 0.3m"
      ],
      "metadata": {
        "id": "2Ei9UTuip_de"
      }
    },
    {
      "cell_type": "code",
      "source": [
        "#Importar librarias para usar el pi \n",
        "\n",
        "import numpy as np\n",
        "\n",
        "#Definir variables\n",
        "\n",
        "radio_en_metros=0.3\n",
        "altura=5\n",
        "\n",
        "#Primero se debe convertir el radio en dm para tener las mismas unidades\n",
        "\n",
        "radio_en_dm=radio_en_metros*10\n",
        "\n",
        "#Calculo del volumen\n",
        "\n",
        "volumen= (np.pi *altura*(radio_en_dm**2))/3\n",
        "\n",
        "#SALIDAS\n",
        "\n",
        "print(\"El volumen del cono es: \",volumen)"
      ],
      "metadata": {
        "id": "uM_vkpv0p94z",
        "colab": {
          "base_uri": "https://localhost:8080/"
        },
        "outputId": "019848fa-a63d-4ee6-a02d-70df803133fc"
      },
      "execution_count": null,
      "outputs": [
        {
          "output_type": "stream",
          "name": "stdout",
          "text": [
            "El volumen del cono es:  47.1238898038469\n"
          ]
        }
      ]
    },
    {
      "cell_type": "markdown",
      "source": [
        "Ejercicio 7: Calcular el area de un cono de altura 3cm y de raddio 4cm"
      ],
      "metadata": {
        "id": "Kk6bGbhOtVK_"
      }
    },
    {
      "cell_type": "code",
      "source": [
        "#Importar librearias\n",
        "\n",
        "import numpy as np \n",
        "\n",
        "#Definir variables\n",
        "\n",
        "altura=3\n",
        "radio=4\n",
        "\n",
        "#Calcular la altura inclinada \n",
        "\n",
        "altura_inclinada= np.sqrt(altura**2 + radio**2)\n",
        "\n",
        "#Calcular el area de un cono \n",
        "\n",
        "area= np.pi*radio*(radio+altura_inclinada)\n",
        "\n",
        "#Salidas\n",
        "\n",
        "print(\"El area del cono es:  \",area)"
      ],
      "metadata": {
        "colab": {
          "base_uri": "https://localhost:8080/"
        },
        "id": "9DfDXb47tboB",
        "outputId": "2fb8c69e-31d3-4713-e7a5-5272f8ef4905"
      },
      "execution_count": null,
      "outputs": [
        {
          "output_type": "stream",
          "name": "stdout",
          "text": [
            "El area del cono es:   113.09733552923255\n"
          ]
        }
      ]
    },
    {
      "cell_type": "markdown",
      "source": [
        "Ejercicio 8: Calcular el area de un cono de altura 1dm y altura inclinada de 2dm"
      ],
      "metadata": {
        "id": "meifE2ylulng"
      }
    },
    {
      "cell_type": "code",
      "source": [
        "#Importar librerias\n",
        "\n",
        "import numpy as np \n",
        "\n",
        "#Definir variables\n",
        "\n",
        "altura=1\n",
        "altura_inclinada=2\n",
        "\n",
        "#Calcular el radio\n",
        "\n",
        "radio=np.sqrt(altura_inclinada**2 -altura**2)\n",
        "\n",
        "#Calcular el area\n",
        "\n",
        "area= np.pi *radio*(radio+altura_inclinada)\n",
        "\n",
        "#Prints\n",
        "\n",
        "print(\"El area del cono es \", area)"
      ],
      "metadata": {
        "colab": {
          "base_uri": "https://localhost:8080/"
        },
        "id": "9jnI2VkIvMXC",
        "outputId": "1a6f1f2d-5551-4e37-8d46-454446f67acb"
      },
      "execution_count": null,
      "outputs": [
        {
          "output_type": "stream",
          "name": "stdout",
          "text": [
            "El area del cono es  20.307574146174684\n"
          ]
        }
      ]
    },
    {
      "cell_type": "markdown",
      "source": [
        "Ejercicio 9: Jose tiene dos conos de igual altura uno rojo de 3cm de radio y otro azul de 6cm de radio ¿El cono azul tiene el doble de volumen que el rojo?"
      ],
      "metadata": {
        "id": "TNgi9OPbwHTd"
      }
    },
    {
      "cell_type": "code",
      "source": [
        "#Import\n",
        "\n",
        "import numpy as np\n",
        "from sympy import *\n",
        "#Se declara las variables simbolicas \n",
        "h= symbols (\"h\")\n",
        "\n",
        "#Calcular el volumen del rojo \n",
        "\n",
        "volumen_rojo=(np.pi*h*3**2)/3\n",
        "\n",
        "#Calcular volumen del azul \n",
        "\n",
        "volumen_azul=(np.pi*h*6**2)/3\n",
        "\n",
        "#Prints\n",
        "\n",
        "print(\"El volumen del rojo es: \",volumen_rojo)\n",
        "print(\"El volumen del rojo es: \",volumen_azul)\n",
        "\n",
        "#Conclusion\n",
        "\n",
        "print(\"El cono azul tiene el cuadruple de altura que el cono rojo\")"
      ],
      "metadata": {
        "colab": {
          "base_uri": "https://localhost:8080/"
        },
        "id": "0XtGC9x6wYXw",
        "outputId": "60192aad-dee8-443c-9064-f1fc19b00f79"
      },
      "execution_count": null,
      "outputs": [
        {
          "output_type": "stream",
          "name": "stdout",
          "text": [
            "El volumen del rojo es:  9.42477796076938*h\n",
            "El volumen del rojo es:  37.6991118430775*h\n",
            "El cono azul tiene el cuadruple de altura que el cono rojo\n"
          ]
        }
      ]
    },
    {
      "cell_type": "markdown",
      "source": [
        "Ejercicio 10: Ana tiene dos conos de igual radio uno rojo de 5cm de altura y uno azul de 10cm de altura ¿El cono azul tiene el doble de volumen que el rojo?"
      ],
      "metadata": {
        "id": "aRSrEd5NyzNW"
      }
    },
    {
      "cell_type": "code",
      "source": [
        "#Import\n",
        "\n",
        "import numpy as np\n",
        "from sympy import *\n",
        "#Se declara las variables simbolicas \n",
        "r= symbols (\"r\")\n",
        "\n",
        "#Calcular el volumen del cono azul\n",
        "\n",
        "volumen_azul=(np.pi*10*r**2)/3\n",
        "\n",
        "\n",
        "#Calcular el volumen del cono rojo \n",
        "\n",
        "volumen_rojo=(np.pi*5*r**2)/3\n",
        "\n",
        "#prints\n",
        "\n",
        "print(\"El volumen del rojo es: \",volumen_rojo)\n",
        "print(\"El volumen del rojo es: \",volumen_azul)\n",
        "\n",
        "\n",
        "#Conclusion\n",
        "\n",
        "print(\"El cono azul tiene el doble de volumen que el rojo\")\n",
        "\n",
        "\n"
      ],
      "metadata": {
        "colab": {
          "base_uri": "https://localhost:8080/"
        },
        "id": "KXkgAYwqzHuV",
        "outputId": "143485b6-f145-46f1-b18e-e99d75ee2823"
      },
      "execution_count": null,
      "outputs": [
        {
          "output_type": "stream",
          "name": "stdout",
          "text": [
            "El volumen del rojo es:  5.23598775598299*r**2\n",
            "El volumen del rojo es:  10.471975511966*r**2\n",
            "El cono azul tiene el doble de volumen que el rojo\n"
          ]
        }
      ]
    }
  ]
}