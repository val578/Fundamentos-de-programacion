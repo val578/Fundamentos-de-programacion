{
  "nbformat": 4,
  "nbformat_minor": 0,
  "metadata": {
    "colab": {
      "provenance": [],
      "collapsed_sections": [],
      "authorship_tag": "ABX9TyO59ToTJRYi0TLE5EROSJQg",
      "include_colab_link": true
    },
    "kernelspec": {
      "name": "python3",
      "display_name": "Python 3"
    },
    "language_info": {
      "name": "python"
    }
  },
  "cells": [
    {
      "cell_type": "markdown",
      "metadata": {
        "id": "view-in-github",
        "colab_type": "text"
      },
      "source": [
        "<a href=\"https://colab.research.google.com/github/val578/Fundamentos-de-programacion/blob/main/Diagrama_1.ipynb\" target=\"_parent\"><img src=\"https://colab.research.google.com/assets/colab-badge.svg\" alt=\"Open In Colab\"/></a>"
      ]
    },
    {
      "cell_type": "code",
      "execution_count": null,
      "metadata": {
        "id": "EaXD7NYk6Rp-"
      },
      "outputs": [],
      "source": [
        "n=int(input(\"Ingrese la cantidad de notas a promediar:\" ))\n",
        "suma=0\n",
        "i=1\n",
        "while(i <= n):\n",
        "  print(\"Ingrese la nota del estudiante:\", i )\n",
        "  nota=float(input())\n",
        "  suma=suma+nota\n",
        "  i+=1\n",
        "prom=suma/n\n",
        "print('El promedio es',prom)"
      ]
    },
    {
      "cell_type": "code",
      "source": [
        "suma=0\n",
        "i=int (input('Ingrese'))\n",
        "for i in range(3):\n",
        "  resultado=2**i\n",
        "  suma=suma+resultado\n",
        "  i+=1\n",
        "  print(resultado)\n",
        "print(\"la suma de todo es\",suma)"
      ],
      "metadata": {
        "id": "JYENn-y-69xL"
      },
      "execution_count": null,
      "outputs": []
    }
  ]
}